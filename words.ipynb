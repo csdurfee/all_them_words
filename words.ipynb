{
 "cells": [
  {
   "cell_type": "markdown",
   "metadata": {},
   "source": [
    "## There are a lot of word lists on the internet.\n",
    "\n",
    "This one is mine.\n",
    "\n",
    "What's a real English word and what is not? I decided to collect a bunch of lists of words from the internet and merge them together.\n",
    "\n",
    "Sources:\n",
    "\n",
    "* 'corncob': http://www.mieliestronk.com/wordlist.html\n",
    "* 'ecprice': https://www.mit.edu/~ecprice/wordlist.10000\n",
    "* 'dwyl': https://github.com/dwyl/english-words/raw/master/words_alpha.txt\n",
    "* 'sketchyscrabble': https://www.kaggle.com/datasets/bdelanghe/scrabble-dictionary\n"
   ]
  },
  {
   "cell_type": "code",
   "execution_count": 16,
   "metadata": {},
   "outputs": [
    {
     "data": {
      "text/plain": [
       "dict_keys(['corncob', 'sketchyscrabble', 'dwyl', 'ecprice'])"
      ]
     },
     "execution_count": 16,
     "metadata": {},
     "output_type": "execute_result"
    }
   ],
   "source": [
    "import pandas as pd\n",
    "import os, glob\n",
    "\n",
    "\n",
    "filenames = os.listdir(\"word_lists\")\n",
    "\n",
    "word_lists = {}\n",
    "\n",
    "for f in filenames:\n",
    "    if f.startswith(\".\"):\n",
    "        continue\n",
    "    assert \".\" in f, \"bad filename\"\n",
    "    (name, extension) = f.split(\".\")\n",
    "    word_lists[name] = pd.read_csv(f\"./word_lists/{f}\", header=None)\n",
    "\n",
    "\n",
    "word_lists.keys()"
   ]
  },
  {
   "cell_type": "code",
   "execution_count": 17,
   "metadata": {},
   "outputs": [
    {
     "data": {
      "text/html": [
       "<div>\n",
       "<style scoped>\n",
       "    .dataframe tbody tr th:only-of-type {\n",
       "        vertical-align: middle;\n",
       "    }\n",
       "\n",
       "    .dataframe tbody tr th {\n",
       "        vertical-align: top;\n",
       "    }\n",
       "\n",
       "    .dataframe thead th {\n",
       "        text-align: right;\n",
       "    }\n",
       "</style>\n",
       "<table border=\"1\" class=\"dataframe\">\n",
       "  <thead>\n",
       "    <tr style=\"text-align: right;\">\n",
       "      <th></th>\n",
       "      <th>0</th>\n",
       "    </tr>\n",
       "  </thead>\n",
       "  <tbody>\n",
       "    <tr>\n",
       "      <th>0</th>\n",
       "      <td>aa</td>\n",
       "    </tr>\n",
       "    <tr>\n",
       "      <th>1</th>\n",
       "      <td>aah</td>\n",
       "    </tr>\n",
       "    <tr>\n",
       "      <th>2</th>\n",
       "      <td>aahed</td>\n",
       "    </tr>\n",
       "    <tr>\n",
       "      <th>3</th>\n",
       "      <td>aahing</td>\n",
       "    </tr>\n",
       "    <tr>\n",
       "      <th>4</th>\n",
       "      <td>aahs</td>\n",
       "    </tr>\n",
       "    <tr>\n",
       "      <th>...</th>\n",
       "      <td>...</td>\n",
       "    </tr>\n",
       "    <tr>\n",
       "      <th>95</th>\n",
       "      <td>abbotcies</td>\n",
       "    </tr>\n",
       "    <tr>\n",
       "      <th>96</th>\n",
       "      <td>abbotcy</td>\n",
       "    </tr>\n",
       "    <tr>\n",
       "      <th>97</th>\n",
       "      <td>abbots</td>\n",
       "    </tr>\n",
       "    <tr>\n",
       "      <th>98</th>\n",
       "      <td>abbreviate</td>\n",
       "    </tr>\n",
       "    <tr>\n",
       "      <th>99</th>\n",
       "      <td>abbreviated</td>\n",
       "    </tr>\n",
       "  </tbody>\n",
       "</table>\n",
       "<p>100 rows × 1 columns</p>\n",
       "</div>"
      ],
      "text/plain": [
       "              0\n",
       "0            aa\n",
       "1           aah\n",
       "2         aahed\n",
       "3        aahing\n",
       "4          aahs\n",
       "..          ...\n",
       "95    abbotcies\n",
       "96      abbotcy\n",
       "97       abbots\n",
       "98   abbreviate\n",
       "99  abbreviated\n",
       "\n",
       "[100 rows x 1 columns]"
      ]
     },
     "execution_count": 17,
     "metadata": {},
     "output_type": "execute_result"
    }
   ],
   "source": [
    "word_lists['sketchyscrabble'].head(100)\n"
   ]
  },
  {
   "cell_type": "code",
   "execution_count": 19,
   "metadata": {},
   "outputs": [
    {
     "name": "stdout",
     "output_type": "stream",
     "text": [
      "corncob -- 58110\n",
      "sketchyscrabble -- 172820\n",
      "dwyl -- 370105\n",
      "ecprice -- 10000\n"
     ]
    }
   ],
   "source": [
    "for k, v in word_lists.items():\n",
    "    print(f\"{k} -- {len(v)}\")"
   ]
  },
  {
   "cell_type": "markdown",
   "metadata": {},
   "source": [
    "Let's merge all of them together. I'm actually going to use the python Collections counter. There may be a better pure pandas solution."
   ]
  },
  {
   "cell_type": "code",
   "execution_count": 26,
   "metadata": {},
   "outputs": [],
   "source": [
    "from collections import Counter\n",
    "\n",
    "word_counter = Counter()\n",
    "\n",
    "for k, df in word_lists.items():\n",
    "    for (idx, row) in df.iterrows():\n",
    "        word_counter[row[0]] += 1\n",
    "    \n",
    "\n"
   ]
  },
  {
   "cell_type": "code",
   "execution_count": 27,
   "metadata": {},
   "outputs": [
    {
     "data": {
      "text/plain": [
       "[(nan, 6),\n",
       " ('abandoned', 4),\n",
       " ('abilities', 4),\n",
       " ('ability', 4),\n",
       " ('able', 4),\n",
       " ('aboriginal', 4),\n",
       " ('abortion', 4),\n",
       " ('about', 4),\n",
       " ('above', 4),\n",
       " ('abroad', 4)]"
      ]
     },
     "execution_count": 27,
     "metadata": {},
     "output_type": "execute_result"
    }
   ],
   "source": [
    "word_counter.most_common(10)"
   ]
  },
  {
   "cell_type": "markdown",
   "metadata": {},
   "source": [
    "now, back to a dataframe. (yeah, I know)"
   ]
  },
  {
   "cell_type": "code",
   "execution_count": 28,
   "metadata": {},
   "outputs": [
    {
     "data": {
      "text/plain": [
       "aardvark    3\n",
       "aardwolf    3\n",
       "aaron       3\n",
       "aback       3\n",
       "abacus      3\n",
       "dtype: int64"
      ]
     },
     "execution_count": 28,
     "metadata": {},
     "output_type": "execute_result"
    }
   ],
   "source": [
    "master_word_list = pd.Series(word_counter)\n",
    "\n",
    "master_word_list.head()"
   ]
  },
  {
   "cell_type": "code",
   "execution_count": 34,
   "metadata": {},
   "outputs": [
    {
     "data": {
      "text/plain": [
       "abandoned     4\n",
       "abilities     4\n",
       "ability       4\n",
       "able          4\n",
       "aboriginal    4\n",
       "             ..\n",
       "zone          4\n",
       "zones         4\n",
       "zoning        4\n",
       "zoo           4\n",
       "zoom          4\n",
       "Length: 7802, dtype: int64"
      ]
     },
     "execution_count": 34,
     "metadata": {},
     "output_type": "execute_result"
    }
   ],
   "source": [
    "master_word_list[master_word_list > 3]"
   ]
  },
  {
   "cell_type": "code",
   "execution_count": null,
   "metadata": {},
   "outputs": [],
   "source": []
  }
 ],
 "metadata": {
  "interpreter": {
   "hash": "3e5e67dba9ec50688b51d210d69127116c7da1f67ec0df7da4b6c1a14dc73fba"
  },
  "kernelspec": {
   "display_name": "Python 3.9.13 ('py3-data')",
   "language": "python",
   "name": "python3"
  },
  "language_info": {
   "codemirror_mode": {
    "name": "ipython",
    "version": 3
   },
   "file_extension": ".py",
   "mimetype": "text/x-python",
   "name": "python",
   "nbconvert_exporter": "python",
   "pygments_lexer": "ipython3",
   "version": "3.9.13"
  },
  "orig_nbformat": 4
 },
 "nbformat": 4,
 "nbformat_minor": 2
}
